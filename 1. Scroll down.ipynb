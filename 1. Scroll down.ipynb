{
 "cells": [
  {
   "cell_type": "code",
   "execution_count": null,
   "metadata": {},
   "outputs": [],
   "source": [
    "# import useful python packages\n",
    "    \n",
    "from selenium import webdriver\n",
    "from bs4 import BeautifulSoup\n",
    "import time\n",
    "\n",
    "# use selenium to open the kickstarter website via Chrome\n",
    "browser = webdriver.Chrome(\"C:\\Program Files (x86)\\Google\\Chrome\\Application\\chromedriver\")\n",
    "browser.implicitly_wait(5)\n",
    "browser.get(\"https://www.kickstarter.com/discover/advanced?woe_id=23424977&sort=magic&seed=2619898&page=1\")\n",
    "time.sleep(2)\n",
    "# make sure the website language is English and currency is USD\n",
    "browser.find_element_by_xpath(\"//select/option[@value='en']\").click()\n",
    "browser.find_element_by_xpath(\"//select/option[@value='USD']\").click()\n",
    "# clike the \"Load more\" button\n",
    "browser.find_element_by_id(\"text\").click()\n",
    "# set number of pages you want to scroll down\n",
    "for i in range(100):\n",
    "    browser.execute_script(\"window.scrollTo(0, document.body.scrollHeight);\")\n",
    "    time.sleep(2)\n",
    "# use beautifulsoup to get all page source and get all related information\n",
    "get_soup = BeautifulSoup(browser.page_source, 'html.parser')\n",
    "get_info = get_soup.find_all('div', attrs={'class': 'mb5 relative'})\n",
    "\n",
    "# close and quit the browser \n",
    "browser.close()        \n",
    "browser.quit()"
   ]
  }
 ],
 "metadata": {
  "kernelspec": {
   "display_name": "Python 3",
   "language": "python",
   "name": "python3"
  },
  "language_info": {
   "codemirror_mode": {
    "name": "ipython",
    "version": 3
   },
   "file_extension": ".py",
   "mimetype": "text/x-python",
   "name": "python",
   "nbconvert_exporter": "python",
   "pygments_lexer": "ipython3",
   "version": "3.7.4"
  }
 },
 "nbformat": 4,
 "nbformat_minor": 2
}
