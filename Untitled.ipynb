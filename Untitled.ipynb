{
 "cells": [
  {
   "cell_type": "code",
   "execution_count": null,
   "metadata": {},
   "outputs": [],
   "source": [
    "import re      \n",
    "from selenium import webdriver\n",
    "from selenium.webdriver.support.ui import Select\n",
    "import time\n",
    "import pandas as pd"
   ]
  },
  {
   "cell_type": "code",
   "execution_count": null,
   "metadata": {},
   "outputs": [],
   "source": [
    "# use selenium to open the kickstarter website via Chrome\n",
    "browser = webdriver.Chrome(\"C:\\Program Files (x86)\\Google\\Chrome\\Application\\chromedriver\")\n",
    "browser.implicitly_wait(5)\n",
    "browser.get(\"https://tools.ceres.org/resources/tools/sec-sustainability-disclosure\")\n",
    "time.sleep(2)\n",
    "browser.find_element_by_xpath(\"//a[@href='https://tools.ceres.org/login_form']\").click()\n",
    "browser.find_element_by_name(\"__ac_name\").send_keys('cbi4@fordham.edu')\n",
    "browser.find_element_by_name(\"__ac_password\").send_keys('bcy199103ce21')\n",
    "browser.find_element_by_class_name('context').click()\n",
    "#select correct year\n",
    "select=Select(browser.find_element_by_id(\"searchBoxYear\"))\n",
    "select.select_by_visible_text('2020')\n",
    "time.sleep(2)"
   ]
  },
  {
   "cell_type": "code",
   "execution_count": null,
   "metadata": {},
   "outputs": [],
   "source": [
    "name,group,issue,li,disclosure=[],[],[],[],[]\n",
    "def get_link(x,y):\n",
    "    for i in range(x,y):\n",
    "        if table_rows[i].find_elements_by_tag_name('td')[7].text=='View Report':\n",
    "            name.append(table_rows[i].find_elements_by_tag_name('td')[1].text)\n",
    "            group.append(table_rows[i].find_elements_by_tag_name('td')[3].text)\n",
    "            issue.append(table_rows[i].find_elements_by_tag_name('td')[5].text)\n",
    "            try:\n",
    "                table_rows[i].find_elements_by_tag_name('td')[7].click()\n",
    "                link=browser.find_element_by_link_text('click here to view original SEC filing').get_attribute('href')\n",
    "                text=browser.find_element_by_xpath(\"//div[@class='abstractContainer']\").text\n",
    "                li.append(link)\n",
    "                disclosure.append(text)\n",
    "                browser.find_element_by_class_name('boxclose').click()\n",
    "            except:\n",
    "                del name[-1]\n",
    "                del group[-1]\n",
    "                del issue[-1]\n",
    "def parse():\n",
    "    get_link(1,35)\n",
    "    browser.execute_script(\"window.scrollTo(0,1320)\") \n",
    "    get_link(50,70)\n",
    "    browser.execute_script(\"window.scrollTo(0,2080)\") \n",
    "    get_link(71,101)\n",
    "    browser.execute_script(\"window.scrollTo(0,1320)\") "
   ]
  },
  {
   "cell_type": "code",
   "execution_count": null,
   "metadata": {},
   "outputs": [],
   "source": [
    "#find table, get columns and rows\n",
    "table=browser.find_element_by_class_name(\"display.resolutions-table\")\n",
    "table_rows=table.find_elements_by_tag_name('tr')\n",
    "#table_cols = table_rows[0].find_elements_by_tag_name('th')\n",
    "#click_page=browser.find_elements_by_class_name(\"page\")\n",
    "#for i in range(1,int(len(click_page)/2)):\n",
    "#browser.find_elements_by_class_name(\"page\")[i].click()\n",
    "parse()"
   ]
  },
  {
   "cell_type": "code",
   "execution_count": null,
   "metadata": {},
   "outputs": [],
   "source": [
    "df=pd.DataFrame(list(zip(name,group,issue,li,disclosure)),columns=[\"Company_name\",\"Group\",\"Issue\",\"Link\",\"disclosure\"])"
   ]
  },
  {
   "cell_type": "code",
   "execution_count": null,
   "metadata": {},
   "outputs": [],
   "source": [
    "df.to_excel(\"list_2020_climate.xlsx\")"
   ]
  },
  {
   "cell_type": "code",
   "execution_count": null,
   "metadata": {},
   "outputs": [],
   "source": [
    "browser.close()        \n",
    "browser.quit()"
   ]
  }
 ],
 "metadata": {
  "kernelspec": {
   "display_name": "Python 3",
   "language": "python",
   "name": "python3"
  },
  "language_info": {
   "codemirror_mode": {
    "name": "ipython",
    "version": 3
   },
   "file_extension": ".py",
   "mimetype": "text/x-python",
   "name": "python",
   "nbconvert_exporter": "python",
   "pygments_lexer": "ipython3",
   "version": "3.7.4"
  }
 },
 "nbformat": 4,
 "nbformat_minor": 2
}
